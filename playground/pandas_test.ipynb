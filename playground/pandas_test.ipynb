{
 "cells": [
  {
   "cell_type": "markdown",
   "metadata": {},
   "source": [
    "# PANDAS TEST"
   ]
  },
  {
   "cell_type": "code",
   "execution_count": 5,
   "metadata": {},
   "outputs": [
    {
     "ename": "ModuleNotFoundError",
     "evalue": "No module named 'scraper'",
     "output_type": "error",
     "traceback": [
      "\u001b[0;31m---------------------------------------------------------------------------\u001b[0m",
      "\u001b[0;31mModuleNotFoundError\u001b[0m                       Traceback (most recent call last)",
      "\u001b[1;32m/home/quantf/projects/carousell_scraper/playground/pandas_test.ipynb Cell 2\u001b[0m in \u001b[0;36m<cell line: 1>\u001b[0;34m()\u001b[0m\n\u001b[0;32m----> <a href='vscode-notebook-cell:/home/quantf/projects/carousell_scraper/playground/pandas_test.ipynb#ch0000001?line=0'>1</a>\u001b[0m \u001b[39mfrom\u001b[39;00m \u001b[39mscraper\u001b[39;00m \u001b[39mimport\u001b[39;00m scraper\n",
      "\u001b[0;31mModuleNotFoundError\u001b[0m: No module named 'scraper'"
     ]
    }
   ],
   "source": [
    "from scraper import scraper"
   ]
  },
  {
   "cell_type": "code",
   "execution_count": null,
   "metadata": {},
   "outputs": [],
   "source": [
    "items = scraper.scraper.get_items(\"smart folio mini\")"
   ]
  },
  {
   "cell_type": "code",
   "execution_count": null,
   "metadata": {},
   "outputs": [],
   "source": [
    "import pandas as pd\n",
    "output = pd.DataFrame(items)"
   ]
  },
  {
   "cell_type": "code",
   "execution_count": null,
   "metadata": {},
   "outputs": [],
   "source": [
    "output.iloc[1]"
   ]
  },
  {
   "cell_type": "code",
   "execution_count": null,
   "metadata": {},
   "outputs": [],
   "source": [
    "def age_str_to_hours(age: str):\n",
    "    age_split = age.split(\" \")\n",
    "    if \"hour\" in age_split[1]:\n",
    "        return int(age_split[0])\n",
    "    elif \"day\" in age_split[1]:\n",
    "        return int(age_split[0]) * 24\n",
    "    elif \"month\" in age_split[1]:\n",
    "        return int(age_split[0]) * 24 * 30\n",
    "    elif \"year\" in age_split[1]:\n",
    "        return int(age_split[0]) * 24 * 30 * 365\n",
    "    else:\n",
    "        return 0"
   ]
  },
  {
   "cell_type": "code",
   "execution_count": null,
   "metadata": {},
   "outputs": [],
   "source": [
    "for entry in output[\"age\"]:\n",
    "    print(entry + ' ' + str(age_str_to_hours(entry)))"
   ]
  },
  {
   "cell_type": "code",
   "execution_count": null,
   "metadata": {},
   "outputs": [],
   "source": [
    "output.sort_values(by=\"age\", ascending=True, inplace=True)\n",
    "print(output.to_string(columns=[\"title\", \"price\", \"age\", \"listing_link\"], header=True, max_rows=10, line_width=10))"
   ]
  },
  {
   "cell_type": "code",
   "execution_count": null,
   "metadata": {},
   "outputs": [],
   "source": []
  }
 ],
 "metadata": {
  "kernelspec": {
   "display_name": "Python 3.8.10 ('scraper')",
   "language": "python",
   "name": "python3"
  },
  "language_info": {
   "codemirror_mode": {
    "name": "ipython",
    "version": 3
   },
   "file_extension": ".py",
   "mimetype": "text/x-python",
   "name": "python",
   "nbconvert_exporter": "python",
   "pygments_lexer": "ipython3",
   "version": "3.8.10"
  },
  "orig_nbformat": 4,
  "vscode": {
   "interpreter": {
    "hash": "8529c992d820c0f7d083a848fcfffff81eb735d4260c0390d5b062fdc2d0e193"
   }
  }
 },
 "nbformat": 4,
 "nbformat_minor": 2
}
