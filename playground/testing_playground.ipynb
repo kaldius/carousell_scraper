{
 "cells": [
  {
   "cell_type": "markdown",
   "metadata": {},
   "source": [
    "# BeautifulSoup"
   ]
  },
  {
   "cell_type": "code",
   "execution_count": 1,
   "metadata": {},
   "outputs": [],
   "source": [
    "from bs4 import BeautifulSoup\n",
    "import requests\n",
    "import re"
   ]
  },
  {
   "cell_type": "code",
   "execution_count": 2,
   "metadata": {},
   "outputs": [],
   "source": [
    "html_text = requests.get(\"https://www.carousell.sg/search/smart%20folio%20mini\").text\n",
    "soup = BeautifulSoup(html_text, \"lxml\")"
   ]
  },
  {
   "cell_type": "code",
   "execution_count": 3,
   "metadata": {},
   "outputs": [
    {
     "name": "stdout",
     "output_type": "stream",
     "text": [
      "main\n"
     ]
    }
   ],
   "source": [
    "# to find all tags in \"main\" with \"D_\"\n",
    "for tag in soup.find_all(\"main\", {\"class\": re.compile(\"D_\")}):\n",
    "    print(tag.name)\n"
   ]
  },
  {
   "cell_type": "code",
   "execution_count": 4,
   "metadata": {},
   "outputs": [
    {
     "data": {
      "text/plain": [
       "4408"
      ]
     },
     "execution_count": 4,
     "metadata": {},
     "output_type": "execute_result"
    }
   ],
   "source": [
    "# to find all the different \"D_\" classes\n",
    "lst = []\n",
    "for tag in soup.main.find_all(attrs={\"class\": re.compile(\"D_\")}):\n",
    "    lst += tag.get(\"class\")\n",
    "len(lst)"
   ]
  },
  {
   "cell_type": "code",
   "execution_count": 5,
   "metadata": {},
   "outputs": [],
   "source": [
    "# find all listings\n",
    "listing_list = soup.main.find_all(attrs={\"data-testid\": re.compile(\"listing-card-\\d{10}\")})\n",
    "example_listing = listing_list[0]\n"
   ]
  },
  {
   "cell_type": "code",
   "execution_count": 6,
   "metadata": {},
   "outputs": [
    {
     "data": {
      "text/plain": [
       "'dontlowballpls5 days agoIPad Mini Smart Folio - Black (6th Gen)S$65Brand new in box Open to check Bought from Amazon SG ( Will show receipt to prove authenticity) Lowballers will be ignored  Self collection 604285                              Tags: IPad Mini Case, IPad Mini , Mini IPad , Case for IPad , IPad casingBrand new3'"
      ]
     },
     "execution_count": 6,
     "metadata": {},
     "output_type": "execute_result"
    }
   ],
   "source": [
    "example_listing.text"
   ]
  },
  {
   "cell_type": "code",
   "execution_count": 7,
   "metadata": {},
   "outputs": [
    {
     "data": {
      "text/plain": [
       "'/u/dontlowballpls/'"
      ]
     },
     "execution_count": 7,
     "metadata": {},
     "output_type": "execute_result"
    }
   ],
   "source": [
    "# find SELLER link\n",
    "example_listing.find(href=re.compile(\"/u/\")).get(\"href\")"
   ]
  },
  {
   "cell_type": "code",
   "execution_count": 8,
   "metadata": {},
   "outputs": [
    {
     "data": {
      "text/plain": [
       "'/p/ipad-mini-smart-folio-black-6th-gen-1175308001/'"
      ]
     },
     "execution_count": 8,
     "metadata": {},
     "output_type": "execute_result"
    }
   ],
   "source": [
    "# find LISTING link\n",
    "example_listing.find(href=re.compile(\"/p/\")).get(\"href\")"
   ]
  },
  {
   "cell_type": "code",
   "execution_count": 9,
   "metadata": {},
   "outputs": [
    {
     "data": {
      "text/plain": [
       "'5 days ago'"
      ]
     },
     "execution_count": 9,
     "metadata": {},
     "output_type": "execute_result"
    }
   ],
   "source": [
    "# find AGE of listing\n",
    "example_listing.find(attrs={\"data-testid\": \"listing-card-text-seller-name\"}).next_sibling.text"
   ]
  },
  {
   "cell_type": "code",
   "execution_count": 10,
   "metadata": {},
   "outputs": [
    {
     "data": {
      "text/plain": [
       "'IPad Mini Smart Folio - Black (6th Gen)'"
      ]
     },
     "execution_count": 10,
     "metadata": {},
     "output_type": "execute_result"
    }
   ],
   "source": [
    "# find TITLE of listing\n",
    "example_listing.find(href=re.compile(\"/p/\")).next_element.next_sibling.text"
   ]
  },
  {
   "cell_type": "code",
   "execution_count": 11,
   "metadata": {},
   "outputs": [
    {
     "data": {
      "text/plain": [
       "'S$65'"
      ]
     },
     "execution_count": 11,
     "metadata": {},
     "output_type": "execute_result"
    }
   ],
   "source": [
    "# find PRICE of listing\n",
    "example_listing.find(href=re.compile(\"/p/\")).next_element.next_sibling.next_sibling.text"
   ]
  }
 ],
 "metadata": {
  "kernelspec": {
   "display_name": "Python 3.8.10 ('scraper')",
   "language": "python",
   "name": "python3"
  },
  "language_info": {
   "codemirror_mode": {
    "name": "ipython",
    "version": 3
   },
   "file_extension": ".py",
   "mimetype": "text/x-python",
   "name": "python",
   "nbconvert_exporter": "python",
   "pygments_lexer": "ipython3",
   "version": "3.8.10"
  },
  "orig_nbformat": 4,
  "vscode": {
   "interpreter": {
    "hash": "8529c992d820c0f7d083a848fcfffff81eb735d4260c0390d5b062fdc2d0e193"
   }
  }
 },
 "nbformat": 4,
 "nbformat_minor": 2
}
