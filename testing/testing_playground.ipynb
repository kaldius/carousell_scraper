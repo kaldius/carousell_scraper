{
 "cells": [
  {
   "cell_type": "code",
   "execution_count": 2,
   "metadata": {},
   "outputs": [],
   "source": [
    "from bs4 import BeautifulSoup\n",
    "import requests\n",
    "import re"
   ]
  },
  {
   "cell_type": "code",
   "execution_count": 3,
   "metadata": {},
   "outputs": [],
   "source": [
    "html_text = requests.get(\"https://www.carousell.sg/search/smart%20folio%20mini\").text\n",
    "soup = BeautifulSoup(html_text, \"lxml\")"
   ]
  },
  {
   "cell_type": "code",
   "execution_count": 4,
   "metadata": {},
   "outputs": [
    {
     "name": "stdout",
     "output_type": "stream",
     "text": [
      "main\n"
     ]
    }
   ],
   "source": [
    "# to find all tags in \"main\" with \"D_\"\n",
    "for tag in soup.find_all(\"main\", {\"class\": re.compile(\"D_\")}):\n",
    "    print(tag.name)\n"
   ]
  },
  {
   "cell_type": "code",
   "execution_count": 5,
   "metadata": {},
   "outputs": [
    {
     "data": {
      "text/plain": [
       "4405"
      ]
     },
     "execution_count": 5,
     "metadata": {},
     "output_type": "execute_result"
    }
   ],
   "source": [
    "# to find all the different \"D_\" classes\n",
    "lst = []\n",
    "for tag in soup.main.find_all(attrs={\"class\": re.compile(\"D_\")}):\n",
    "    lst += tag.get(\"class\")\n",
    "len(lst)"
   ]
  },
  {
   "cell_type": "code",
   "execution_count": 6,
   "metadata": {},
   "outputs": [],
   "source": [
    "# find all listings\n",
    "listing_list = soup.main.find_all(attrs={\"data-testid\": re.compile(\"listing-card-\\d{10}\")})\n",
    "example_listing = listing_list[0]\n"
   ]
  },
  {
   "cell_type": "code",
   "execution_count": 7,
   "metadata": {},
   "outputs": [
    {
     "data": {
      "text/plain": [
       "'dontlowballpls2 days agoIPad Mini Smart Folio - Black (6th Gen)S$65Brand new in box Open to check Bought from Amazon SG ( Will show receipt to prove authenticity) Lowballers will be ignored  Self collection 604285                              Tags: IPad Mini Case, IPad Mini , Mini IPad , Case for IPad , IPad casingBrand new\\xa0'"
      ]
     },
     "execution_count": 7,
     "metadata": {},
     "output_type": "execute_result"
    }
   ],
   "source": [
    "example_listing.text"
   ]
  },
  {
   "cell_type": "code",
   "execution_count": 8,
   "metadata": {},
   "outputs": [
    {
     "data": {
      "text/plain": [
       "'/u/dontlowballpls/'"
      ]
     },
     "execution_count": 8,
     "metadata": {},
     "output_type": "execute_result"
    }
   ],
   "source": [
    "# find SELLER link\n",
    "example_listing.find(href=re.compile(\"/u/\")).get(\"href\")"
   ]
  },
  {
   "cell_type": "code",
   "execution_count": 9,
   "metadata": {},
   "outputs": [
    {
     "data": {
      "text/plain": [
       "'/p/ipad-mini-smart-folio-black-6th-gen-1175308001/'"
      ]
     },
     "execution_count": 9,
     "metadata": {},
     "output_type": "execute_result"
    }
   ],
   "source": [
    "# find LISTING link\n",
    "example_listing.find(href=re.compile(\"/p/\")).get(\"href\")"
   ]
  },
  {
   "cell_type": "code",
   "execution_count": 10,
   "metadata": {},
   "outputs": [
    {
     "data": {
      "text/plain": [
       "'2 days ago'"
      ]
     },
     "execution_count": 10,
     "metadata": {},
     "output_type": "execute_result"
    }
   ],
   "source": [
    "# find AGE of listing\n",
    "example_listing.find(attrs={\"data-testid\": \"listing-card-text-seller-name\"}).next_sibling.text"
   ]
  },
  {
   "cell_type": "code",
   "execution_count": 11,
   "metadata": {},
   "outputs": [
    {
     "data": {
      "text/plain": [
       "'IPad Mini Smart Folio - Black (6th Gen)'"
      ]
     },
     "execution_count": 11,
     "metadata": {},
     "output_type": "execute_result"
    }
   ],
   "source": [
    "# find TITLE of listing\n",
    "example_listing.find(href=re.compile(\"/p/\")).next_element.next_sibling.text"
   ]
  },
  {
   "cell_type": "code",
   "execution_count": 12,
   "metadata": {},
   "outputs": [
    {
     "data": {
      "text/plain": [
       "'S$65'"
      ]
     },
     "execution_count": 12,
     "metadata": {},
     "output_type": "execute_result"
    }
   ],
   "source": [
    "# find PRICE of listing\n",
    "example_listing.find(href=re.compile(\"/p/\")).next_element.next_sibling.next_sibling.text"
   ]
  },
  {
   "cell_type": "markdown",
   "metadata": {},
   "source": [
    "*PANDAS TEST*"
   ]
  },
  {
   "cell_type": "code",
   "execution_count": 6,
   "metadata": {},
   "outputs": [],
   "source": [
    "import sys\n",
    "sys.path.append(\"../\")\n",
    "\n",
    "import scripts.main as main"
   ]
  },
  {
   "cell_type": "code",
   "execution_count": 7,
   "metadata": {},
   "outputs": [
    {
     "name": "stdout",
     "output_type": "stream",
     "text": [
      "Number of items:  22 Page:  1\n",
      "URL:  https://www.carousell.sg/search/smart%20folio%20mini\n",
      "Number of items scraped:  22\n",
      "----------------------------------------\n"
     ]
    }
   ],
   "source": [
    "items = main.get_items(\"smart folio mini\")"
   ]
  },
  {
   "cell_type": "code",
   "execution_count": 8,
   "metadata": {},
   "outputs": [],
   "source": [
    "import pandas as pd\n",
    "output = pd.DataFrame(items)\n"
   ]
  },
  {
   "cell_type": "code",
   "execution_count": 9,
   "metadata": {},
   "outputs": [],
   "source": [
    "def age_str_to_hours(age: str):\n",
    "    age_split = age.split(\" \")\n",
    "    if \"hour\" in age_split[1]:\n",
    "        return int(age_split[0])\n",
    "    elif \"day\" in age_split[1]:\n",
    "        return int(age_split[0]) * 24\n",
    "    elif \"month\" in age_split[1]:\n",
    "        return int(age_split[0]) * 24 * 30\n",
    "    elif \"year\" in age_split[1]:\n",
    "        return int(age_split[0]) * 24 * 30 * 365\n",
    "    else:\n",
    "        return 0"
   ]
  },
  {
   "cell_type": "code",
   "execution_count": 17,
   "metadata": {},
   "outputs": [
    {
     "name": "stdout",
     "output_type": "stream",
     "text": [
      "2 days ago 48\n",
      "18 days ago 432\n",
      "10 days ago 240\n",
      "29 days ago 696\n",
      "2 months ago 1440\n",
      "24 days ago 576\n",
      "4 months ago 2880\n",
      "24 days ago 576\n",
      "2 months ago 1440\n",
      "24 days ago 576\n",
      "24 days ago 576\n",
      "6 months ago 4320\n",
      "3 months ago 2160\n",
      "24 days ago 576\n",
      "5 months ago 3600\n",
      "24 days ago 576\n",
      "24 days ago 576\n",
      "24 days ago 576\n",
      "1 year ago 262800\n",
      "24 days ago 576\n",
      "1 year ago 262800\n",
      "4 months ago 2880\n"
     ]
    }
   ],
   "source": [
    "for entry in output[\"age\"]:\n",
    "    print(entry + ' ' + str(age_str_to_hours(entry)))\n"
   ]
  },
  {
   "cell_type": "code",
   "execution_count": 10,
   "metadata": {},
   "outputs": [
    {
     "name": "stdout",
     "output_type": "stream",
     "text": [
      "                                                                                                                                                                                                               title  \\\n",
      "18                        8789) Dteck iPad Mini 1/2/3/4 Case - Lightweight Slim Fit PU Leather Smart Folio Stand Magnetic Cover with Auto Wake/Sleep Feature for Apple iPad Mini 1/ Mini 2/ Mini 3/ Mini 4, Elephant   \n",
      "20                                                                                                            iPad Mini Keyboard Case - Boriyuan 7 Colors Backlit Detachable Keyboard Slim Leather Folio Smart Cover   \n",
      "2                                                                                                                                                                    iPad Mini 5 Original Apple magnetic smart folio   \n",
      "1                                                                                                                                               BN iPad Mini 6th Gen (64GB, Wifi Only, Purple) with Smart Folio Case   \n",
      "0                                                                                                                                                                            IPad Mini Smart Folio - Black (6th Gen)   \n",
      "..                                                                                                                                                                                                               ...   \n",
      "3                                                                                                                                                                            iPad mini 6gen/with smart folio casing    \n",
      "6                                                                                                                                                                         iPad Mini 6 Smart Folio - English Lavender   \n",
      "21  iPad Mini Case with Keyboard, Smart Keyboard Compatible with iPad Mini 5 (5th 2019) - iPad Mini 4 - Mini 3 - Mini 2 & 1 - Removable Wireless Connect Keyboard - Thin Slim Smart Folio Case - Tablet Case (Black)   \n",
      "14                                                                                    R.E Cooler Master Yen Folio iPad mini Case, Carbon Texture Case & Viewing Stand with Magnetic Smart Cover for iPad mini\" -Blue   \n",
      "11                                                                                                                                                        Apple Smart Folio (for iPad mini - 6th generation) - Black   \n",
      "\n",
      "      price  \\\n",
      "18     S$15   \n",
      "20  S$46.50   \n",
      "2      S$30   \n",
      "1     S$650   \n",
      "0      S$65   \n",
      "..      ...   \n",
      "3     S$650   \n",
      "6      S$65   \n",
      "21     S$27   \n",
      "14     S$40   \n",
      "11     S$87   \n",
      "\n",
      "             age  \\\n",
      "18    1 year ago   \n",
      "20    1 year ago   \n",
      "2    10 days ago   \n",
      "1    18 days ago   \n",
      "0     2 days ago   \n",
      "..           ...   \n",
      "3    30 days ago   \n",
      "6   4 months ago   \n",
      "21  4 months ago   \n",
      "14  5 months ago   \n",
      "11  6 months ago   \n",
      "\n",
      "                                                                                                                                                                                                    listing_link  \n",
      "18            /p/8789-dteck-ipad-mini-1-2-3-4-case-lightweight-slim-fit-pu-leather-smart-folio-stand-magnetic-cover-with-auto-wake-sleep-feature-for-apple-ipad-mini-1-mini-2-mini-3-mini-4-elephant-1107607073/  \n",
      "20                                                                                           /p/ipad-mini-keyboard-case-boriyuan-7-colors-backlit-detachable-keyboard-slim-leather-folio-smart-cover-1076031618/  \n",
      "2                                                                                                                                                 /p/ipad-mini-5-original-apple-magnetic-smart-folio-1171849852/  \n",
      "1                                                                                                                                /p/bn-ipad-mini-6th-gen-64gb-wifi-only-purple-with-smart-folio-case-1172072852/  \n",
      "0                                                                                                                                                             /p/ipad-mini-smart-folio-black-6th-gen-1175308001/  \n",
      "..                                                                                                                                                                                                           ...  \n",
      "3                                                                                                                                                          /p/ipad-mini-6gen-with-smart-folio-casing-1169862436/  \n",
      "6                                                                                                                                                        /p/ipad-mini-6-smart-folio-english-lavender-1154673146/  \n",
      "21  /p/ipad-mini-case-with-keyboard-smart-keyboard-compatible-with-ipad-mini-5-5th-2019-ipad-mini-4-mini-3-mini-2-1-removable-wireless-connect-keyboard-thin-slim-smart-folio-case-tablet-case-black-1154445192/  \n",
      "14                                                                      /p/r-e-cooler-master-yen-folio-ipad-mini-case-carbon-texture-case-viewing-stand-with-magnetic-smart-cover-for-ipad-mini-blue-1144325219/  \n",
      "11                                                                                                                                           /p/apple-smart-folio-for-ipad-mini-6th-generation-black-1142029398/  \n"
     ]
    }
   ],
   "source": [
    "output.sort_values(by=\"age\", ascending=True, inplace=True)\n",
    "print(output.to_string(columns=[\"title\", \"price\", \"age\", \"listing_link\"], header=True, max_rows=10, line_width=10))"
   ]
  },
  {
   "cell_type": "code",
   "execution_count": null,
   "metadata": {},
   "outputs": [],
   "source": []
  }
 ],
 "metadata": {
  "kernelspec": {
   "display_name": "Python 3.8.10 ('scraper')",
   "language": "python",
   "name": "python3"
  },
  "language_info": {
   "codemirror_mode": {
    "name": "ipython",
    "version": 3
   },
   "file_extension": ".py",
   "mimetype": "text/x-python",
   "name": "python",
   "nbconvert_exporter": "python",
   "pygments_lexer": "ipython3",
   "version": "3.8.10"
  },
  "orig_nbformat": 4,
  "vscode": {
   "interpreter": {
    "hash": "8529c992d820c0f7d083a848fcfffff81eb735d4260c0390d5b062fdc2d0e193"
   }
  }
 },
 "nbformat": 4,
 "nbformat_minor": 2
}
